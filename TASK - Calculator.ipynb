{
 "cells": [
  {
   "cell_type": "markdown",
   "id": "55bd77b4",
   "metadata": {},
   "source": [
    "\n",
    "\n",
    "\n",
    "\n",
    "\n",
    "\n",
    "\n",
    "\n",
    "\n",
    "\n",
    "\n",
    "\n",
    "\n",
    "\n",
    "\n",
    "# TASK - Calculator\n"
   ]
  },
  {
   "cell_type": "markdown",
   "id": "73d507ca",
   "metadata": {},
   "source": [
    "Design a simple calculator with basic arithmetic operations. Prompt the\n",
    "user to input two numbers and an operation choice. Perform the\n",
    "calculation and display the result."
   ]
  },
  {
   "cell_type": "code",
   "execution_count": 2,
   "id": "32024cec",
   "metadata": {},
   "outputs": [
    {
     "name": "stdout",
     "output_type": "stream",
     "text": [
      "enter the first number:10\n",
      "enter the second number:20\n",
      "enter the operation you want between the two numbers:+\n",
      "Result is  30\n"
     ]
    }
   ],
   "source": [
    "num1=eval(input('enter the first number:'))\n",
    "num2=eval(input('enter the second number:'))\n",
    "oper=input('enter the operation you want between the two numbers:')\n",
    "def add():\n",
    "    return num1+num2\n",
    "def sub():\n",
    "    return num1-num2\n",
    "def mul():\n",
    "    return num1*num2\n",
    "def div():\n",
    "    return num1/num2\n",
    "\n",
    "    \n",
    "if oper=='+':\n",
    "    print('Result is ',add())\n",
    "elif oper=='-':\n",
    "    print('Result is',sub())\n",
    "elif oper=='/':\n",
    "    print('Result is',div())\n",
    "elif oper=='*':\n",
    "    print('Result is',mul())\n",
    "else:\n",
    "    print('Enter the wrong operation')\n"
   ]
  },
  {
   "cell_type": "code",
   "execution_count": null,
   "id": "557df4b4",
   "metadata": {},
   "outputs": [],
   "source": []
  }
 ],
 "metadata": {
  "kernelspec": {
   "display_name": "Python 3 (ipykernel)",
   "language": "python",
   "name": "python3"
  },
  "language_info": {
   "codemirror_mode": {
    "name": "ipython",
    "version": 3
   },
   "file_extension": ".py",
   "mimetype": "text/x-python",
   "name": "python",
   "nbconvert_exporter": "python",
   "pygments_lexer": "ipython3",
   "version": "3.9.12"
  }
 },
 "nbformat": 4,
 "nbformat_minor": 5
}
